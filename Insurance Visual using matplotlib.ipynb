{
 "cells": [
  {
   "cell_type": "markdown",
   "id": "f41ac592",
   "metadata": {},
   "source": [
    "# Insurance Charges based on Sex"
   ]
  },
  {
   "cell_type": "code",
   "execution_count": 7,
   "id": "f16302e4",
   "metadata": {},
   "outputs": [],
   "source": [
    "import pandas as pd\n",
    "import numpy as np\n",
    "import matplotlib.pyplot as plt\n",
    "import plotly.express as px\n",
    "%matplotlib inline"
   ]
  },
  {
   "cell_type": "code",
   "execution_count": 8,
   "id": "60ad5487",
   "metadata": {},
   "outputs": [
    {
     "data": {
      "text/html": [
       "<div>\n",
       "<style scoped>\n",
       "    .dataframe tbody tr th:only-of-type {\n",
       "        vertical-align: middle;\n",
       "    }\n",
       "\n",
       "    .dataframe tbody tr th {\n",
       "        vertical-align: top;\n",
       "    }\n",
       "\n",
       "    .dataframe thead th {\n",
       "        text-align: right;\n",
       "    }\n",
       "</style>\n",
       "<table border=\"1\" class=\"dataframe\">\n",
       "  <thead>\n",
       "    <tr style=\"text-align: right;\">\n",
       "      <th></th>\n",
       "      <th>age</th>\n",
       "      <th>sex</th>\n",
       "      <th>bmi</th>\n",
       "      <th>children</th>\n",
       "      <th>smoker</th>\n",
       "      <th>region</th>\n",
       "      <th>charges</th>\n",
       "    </tr>\n",
       "  </thead>\n",
       "  <tbody>\n",
       "    <tr>\n",
       "      <th>0</th>\n",
       "      <td>19</td>\n",
       "      <td>female</td>\n",
       "      <td>27.900</td>\n",
       "      <td>0</td>\n",
       "      <td>yes</td>\n",
       "      <td>southwest</td>\n",
       "      <td>16884.92400</td>\n",
       "    </tr>\n",
       "    <tr>\n",
       "      <th>1</th>\n",
       "      <td>18</td>\n",
       "      <td>male</td>\n",
       "      <td>33.770</td>\n",
       "      <td>1</td>\n",
       "      <td>no</td>\n",
       "      <td>southeast</td>\n",
       "      <td>1725.55230</td>\n",
       "    </tr>\n",
       "    <tr>\n",
       "      <th>2</th>\n",
       "      <td>28</td>\n",
       "      <td>male</td>\n",
       "      <td>33.000</td>\n",
       "      <td>3</td>\n",
       "      <td>no</td>\n",
       "      <td>southeast</td>\n",
       "      <td>4449.46200</td>\n",
       "    </tr>\n",
       "    <tr>\n",
       "      <th>3</th>\n",
       "      <td>33</td>\n",
       "      <td>male</td>\n",
       "      <td>22.705</td>\n",
       "      <td>0</td>\n",
       "      <td>no</td>\n",
       "      <td>northwest</td>\n",
       "      <td>21984.47061</td>\n",
       "    </tr>\n",
       "    <tr>\n",
       "      <th>4</th>\n",
       "      <td>32</td>\n",
       "      <td>male</td>\n",
       "      <td>28.880</td>\n",
       "      <td>0</td>\n",
       "      <td>no</td>\n",
       "      <td>northwest</td>\n",
       "      <td>3866.85520</td>\n",
       "    </tr>\n",
       "  </tbody>\n",
       "</table>\n",
       "</div>"
      ],
      "text/plain": [
       "   age     sex     bmi  children smoker     region      charges\n",
       "0   19  female  27.900         0    yes  southwest  16884.92400\n",
       "1   18    male  33.770         1     no  southeast   1725.55230\n",
       "2   28    male  33.000         3     no  southeast   4449.46200\n",
       "3   33    male  22.705         0     no  northwest  21984.47061\n",
       "4   32    male  28.880         0     no  northwest   3866.85520"
      ]
     },
     "execution_count": 8,
     "metadata": {},
     "output_type": "execute_result"
    }
   ],
   "source": [
    "#This is a dataset I found from kaggle showing people's health insurance charges.\n",
    "#1338 people\n",
    "insurance = pd.read_csv('insurance.csv')\n",
    "insurance.head()"
   ]
  },
  {
   "cell_type": "code",
   "execution_count": 11,
   "id": "cb622e2d",
   "metadata": {},
   "outputs": [
    {
     "data": {
      "text/plain": [
       "Text(0.5, 1.0, 'Average insurance charges based on sex')"
      ]
     },
     "execution_count": 11,
     "metadata": {},
     "output_type": "execute_result"
    },
    {
     "data": {
      "image/png": "[encoded data removed]",
      "text/plain": [
       "<Figure size 432x288 with 1 Axes>"
      ]
     },
     "metadata": {
      "needs_background": "light"
     },
     "output_type": "display_data"
    }
   ],
   "source": [
    "#Feel like I can optimize this much easier\n",
    "#Changing charges value from a float to integer, looks cleaner\n",
    "insurance['charges'] = insurance['charges'].astype(\"int\")\n",
    "#dataframe seperated between males and females\n",
    "women = insurance.loc[insurance['sex'] == 'female']\n",
    "male = insurance.loc[insurance['sex'] == 'male']\n",
    "#Finding the average charges\n",
    "women_average = women['charges'].mean()\n",
    "male_average = male['charges'].mean()\n",
    "#Making it into dataframes instead of a list to plot\n",
    "df1 = pd.DataFrame(male_average, index = ['Male Average Charge'], columns = ['Charges'])\n",
    "df2 = pd.DataFrame(women_average, index = ['Female Average Charge'], columns = ['Charges'])\n",
    "result = [df1, df2]\n",
    "df = pd.concat(result)\n",
    "#Graphing\n",
    "df.plot.bar()\n",
    "plt.title('Average insurance charges based on sex')"
   ]
  },
  {
   "cell_type": "markdown",
   "id": "41389a42",
   "metadata": {},
   "source": [
    "# Insurance charges based on region"
   ]
  },
  {
   "cell_type": "code",
   "execution_count": 17,
   "id": "f320f0a4",
   "metadata": {},
   "outputs": [
    {
     "data": {
      "text/plain": [
       "Text(0, 0.5, 'Charges')"
      ]
     },
     "execution_count": 17,
     "metadata": {},
     "output_type": "execute_result"
    },
    {
     "data": {
      "image/png": "[encoded data removed]",
      "text/plain": [
       "<Figure size 432x288 with 1 Axes>"
      ]
     },
     "metadata": {
      "needs_background": "light"
     },
     "output_type": "display_data"
    }
   ],
   "source": [
    "#Charges based on which region location?\n",
    "#Average charge for southeast, southwest, northeast, northwest\n",
    "regions = insurance.groupby(\"region\")\n",
    "#Splitting the dataframe\n",
    "north_east = regions.get_group('northeast')\n",
    "north_west = regions.get_group('northwest')\n",
    "south_east = regions.get_group('southeast')\n",
    "south_west = regions.get_group('southwest')\n",
    "#Finding average chages for each \n",
    "se_average = south_east['charges'].mean()\n",
    "sw_average = south_west['charges'].mean()\n",
    "ne_average = north_east['charges'].mean()\n",
    "nw_average = north_west['charges'].mean()\n",
    "\n",
    "#Making it into a dataframe\n",
    "area = [se_average, sw_average, ne_average, nw_average]\n",
    "df4 = pd.DataFrame(area, columns = ['charges'])\n",
    "df4.plot.bar()\n",
    "\n",
    "plt.xlabel('Regions')\n",
    "plt.ylabel('Charges')"
   ]
  },
  {
   "cell_type": "markdown",
   "id": "ad89a007",
   "metadata": {},
   "source": [
    "# Insurance Charges based on how many children "
   ]
  },
  {
   "cell_type": "code",
   "execution_count": 6,
   "id": "a223f487",
   "metadata": {},
   "outputs": [
    {
     "data": {
      "text/plain": [
       "Text(0.5, 0, 'Charges')"
      ]
     },
     "execution_count": 6,
     "metadata": {},
     "output_type": "execute_result"
    },
    {
     "data": {
      "image/png": "[encoded data removed]",
      "text/plain": [
       "<Figure size 432x288 with 1 Axes>"
      ]
     },
     "metadata": {
      "needs_background": "light"
     },
     "output_type": "display_data"
    }
   ],
   "source": [
    "#Grouping by Children\n",
    "children = insurance.groupby('children')\n",
    "\n",
    "#Seperation\n",
    "zero = children.get_group(0)\n",
    "one = children.get_group(1)\n",
    "two = children.get_group(2)\n",
    "three = children.get_group(3)\n",
    "\n",
    "#Finding averages\n",
    "zero_average = zero['charges'].mean()\n",
    "one_average = one['charges'].mean()\n",
    "two_average = two['charges'].mean()\n",
    "three_average = three['charges'].mean()\n",
    "\n",
    "#Start Graphs\n",
    "array = [zero_average, one_average, two_average, three_average]\n",
    "df3 = pd.DataFrame(array, columns = ['charges'])\n",
    "df3.plot.barh()\n",
    "\n",
    "plt.title('Average charges based on number of children')\n",
    "plt.ylabel('Children')\n",
    "plt.xlabel('Charges')\n",
    "#Can see fewer children correlate to having cheaper insurance\n"
   ]
  },
  {
   "cell_type": "markdown",
   "id": "d1216adf",
   "metadata": {},
   "source": [
    "# Charges based on ages"
   ]
  },
  {
   "cell_type": "code",
   "execution_count": 52,
   "id": "e99858c2",
   "metadata": {},
   "outputs": [
    {
     "data": {
      "image/png": "[encoded data removed]",
      "text/plain": [
       "<Figure size 432x288 with 1 Axes>"
      ]
     },
     "metadata": {},
     "output_type": "display_data"
    }
   ],
   "source": [
    "#The ages are between 18-64\n",
    "#Find a way to visualize this\n",
    "test = insurance['age']\n",
    "max_value = test.min()  #this is what i used to check the min and max values of age column\n",
    "#print(max_value)\n",
    "#Splitting the dataframe between different age groups and then finding average\n",
    "y_adult = insurance.loc[(insurance['age'] >= 18) & (insurance['age'] <= 25)]\n",
    "adult = insurance.loc[(insurance['age'] >= 26) & (insurance['age'] <= 44)]\n",
    "mid_age = insurance.loc[(insurance['age'] >= 45) & (insurance['age'] <= 59)]\n",
    "later_age = insurance.loc[(insurance['age'] >=64)]  \n",
    "scope = ['y_adult', 'adult', 'mid_age', 'later_age']\n",
    "#Get average of each varaible\n",
    "y_adult_avg = y_adult['charges'].mean()\n",
    "adult_avg = adult['charges'].mean()\n",
    "mid_age_avg = mid_age['charges'].mean()\n",
    "later_age_avg = later_age['charges'].mean()\n",
    "\n",
    "#Start Graphing\n",
    "df_avg = [y_adult_avg, adult_avg, mid_age_avg, later_age_avg]\n",
    "plt.pie(df_avg, labels = scope, autopct = '%.1f%%')\n",
    "\n",
    "plt.show()\n",
    "#From this, we can see that as you get older, health insurance increases\n",
    "\n",
    "#NOTE\n",
    "#I am not showing the average charges based on if they are a smoker or not due to the wide variance in the dataset I have. \n",
    "#There's 1000 non smokers and around 330 smokers so the numbers would not align."
   ]
  },
  {
   "cell_type": "markdown",
   "id": "8b71df2e",
   "metadata": {},
   "source": [
    "# Insurance charges based on multiple Conditions"
   ]
  },
  {
   "cell_type": "code",
   "execution_count": 9,
   "id": "69ee9929",
   "metadata": {},
   "outputs": [
    {
     "data": {
      "text/plain": [
       "8207.952380952382"
      ]
     },
     "execution_count": 9,
     "metadata": {},
     "output_type": "execute_result"
    }
   ],
   "source": [
    "#Now, let's say we want the average charge of young adults who have zero children and based in the northwest region. \n",
    "\n",
    "insurance_filter = insurance[(insurance['age'] >= 18) & (insurance['age'] <=24) & (insurance['children'] == 0) & \n",
    "                            (insurance['region'] == 'northwest')]\n",
    "#For these conditions, I only found there to be 42 matches\n",
    "insurance_filter_avg = insurance_filter['charges'].mean()\n",
    "\n"
   ]
  },
  {
   "cell_type": "code",
   "execution_count": null,
   "id": "7fc34495",
   "metadata": {},
   "outputs": [],
   "source": []
  }
 ],
 "metadata": {
  "kernelspec": {
   "display_name": "Python 3",
   "language": "python",
   "name": "python3"
  },
  "language_info": {
   "codemirror_mode": {
    "name": "ipython",
    "version": 3
   },
   "file_extension": ".py",
   "mimetype": "text/x-python",
   "name": "python",
   "nbconvert_exporter": "python",
   "pygments_lexer": "ipython3",
   "version": "3.8.8"
  }
 },
 "nbformat": 4,
 "nbformat_minor": 5
}
